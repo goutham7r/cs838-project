{
 "cells": [
  {
   "cell_type": "code",
   "execution_count": 4,
   "metadata": {},
   "outputs": [],
   "source": [
    "%load_ext autoreload\n",
    "%autoreload 2"
   ]
  },
  {
   "cell_type": "code",
   "execution_count": 1,
   "metadata": {},
   "outputs": [],
   "source": [
    "import csv\n",
    "import cv2\n",
    "import os\n",
    "import numpy as np\n",
    "from tqdm import tqdm_notebook as tqdm"
   ]
  },
  {
   "cell_type": "code",
   "execution_count": 2,
   "metadata": {},
   "outputs": [],
   "source": [
    "import urllib\n",
    "import cv2, csv\n",
    "from matplotlib import pyplot as plt\n",
    "%matplotlib inline\n",
    " \n",
    "# METHOD #1: OpenCV, NumPy, and urllib\n",
    "def url_to_image(url):\n",
    "    # download the image, convert it to a NumPy array, and then read\n",
    "    # it into OpenCV format\n",
    "    try:\n",
    "        resp = urllib.request.urlopen(url)\n",
    "        image = np.asarray(bytearray(resp.read()), dtype=\"uint8\")\n",
    "        image = cv2.imdecode(image, cv2.IMREAD_COLOR)\n",
    "        return image\n",
    "    except:\n",
    "        return None"
   ]
  },
  {
   "cell_type": "code",
   "execution_count": null,
   "metadata": {},
   "outputs": [],
   "source": []
  },
  {
   "cell_type": "code",
   "execution_count": 3,
   "metadata": {},
   "outputs": [
    {
     "data": {
      "application/vnd.jupyter.widget-view+json": {
       "model_id": "5c4644487ede45f5805521d8fe65a26c",
       "version_major": 2,
       "version_minor": 0
      },
      "text/plain": [
       "HBox(children=(IntProgress(value=1, bar_style='info', max=1), HTML(value='')))"
      ]
     },
     "metadata": {},
     "output_type": "display_data"
    },
    {
     "name": "stdout",
     "output_type": "stream",
     "text": [
      "\n"
     ]
    }
   ],
   "source": [
    "data_info = {}\n",
    "with open(\"IMDb-Face.csv\", \"r\", encoding=\"utf8\") as f:\n",
    "    reader = csv.reader(f, delimiter=\",\")\n",
    "    for i, line in tqdm(enumerate(reader)):\n",
    "        if line[0] in data_info:\n",
    "            data_info[line[0]] += 1\n",
    "        else:\n",
    "            data_info[line[0]] = 1"
   ]
  },
  {
   "cell_type": "code",
   "execution_count": 4,
   "metadata": {},
   "outputs": [
    {
     "data": {
      "text/plain": [
       "59305"
      ]
     },
     "execution_count": 4,
     "metadata": {},
     "output_type": "execute_result"
    }
   ],
   "source": [
    "len(data_info)"
   ]
  },
  {
   "cell_type": "code",
   "execution_count": 5,
   "metadata": {},
   "outputs": [],
   "source": [
    "stats = data_info"
   ]
  },
  {
   "cell_type": "code",
   "execution_count": 6,
   "metadata": {},
   "outputs": [
    {
     "data": {
      "text/plain": [
       "'Peter_Loung'"
      ]
     },
     "execution_count": 6,
     "metadata": {},
     "output_type": "execute_result"
    }
   ],
   "source": [
    "max(stats, key=stats.get)"
   ]
  },
  {
   "cell_type": "code",
   "execution_count": 7,
   "metadata": {},
   "outputs": [
    {
     "data": {
      "text/plain": [
       "10455"
      ]
     },
     "execution_count": 7,
     "metadata": {},
     "output_type": "execute_result"
    }
   ],
   "source": [
    "data_info['Peter_Loung']"
   ]
  },
  {
   "cell_type": "code",
   "execution_count": 79,
   "metadata": {},
   "outputs": [
    {
     "data": {
      "text/plain": [
       "(array([1., 1., 0., ..., 0., 0., 1.]),\n",
       " array([    1,     2,     3, ..., 10453, 10454, 10455]),\n",
       " <a list of 10454 Patch objects>)"
      ]
     },
     "execution_count": 79,
     "metadata": {},
     "output_type": "execute_result"
    },
    {
     "data": {
      "image/png": "[encoded data removed]",
      "text/plain": [
       "<Figure size 432x288 with 1 Axes>"
      ]
     },
     "metadata": {
      "needs_background": "light"
     },
     "output_type": "display_data"
    }
   ],
   "source": [
    "data = list(data_info.values())\n",
    "plt.hist(data, bins=np.arange(min(data), max(data)+1))"
   ]
  },
  {
   "cell_type": "code",
   "execution_count": 8,
   "metadata": {},
   "outputs": [],
   "source": [
    "freq = {}\n",
    "for key in data_info:\n",
    "    value = data_info[key]\n",
    "    if value in freq:\n",
    "        freq[value] += 1\n",
    "    else:\n",
    "        freq[value] = 1"
   ]
  },
  {
   "cell_type": "code",
   "execution_count": 9,
   "metadata": {},
   "outputs": [
    {
     "data": {
      "text/plain": [
       "1061"
      ]
     },
     "execution_count": 9,
     "metadata": {},
     "output_type": "execute_result"
    }
   ],
   "source": [
    "celebs = [key for key in data_info if data_info[key]>150]\n",
    "len(celebs)"
   ]
  },
  {
   "cell_type": "code",
   "execution_count": 10,
   "metadata": {},
   "outputs": [
    {
     "data": {
      "text/plain": [
       "['Randolph_Scott',\n",
       " 'Danny_Boyle',\n",
       " 'Temperance_Lancecouncil',\n",
       " 'Dennis_Quaid',\n",
       " 'Victoria_Mullen',\n",
       " 'James_Van_Der_Beek',\n",
       " 'Tiffany_Michelle',\n",
       " 'John_C._Reilly',\n",
       " 'Jussie_Smollett',\n",
       " 'Nathan_Fillion']"
      ]
     },
     "execution_count": 10,
     "metadata": {},
     "output_type": "execute_result"
    }
   ],
   "source": [
    "celebs = celebs[:10]\n",
    "celebs"
   ]
  },
  {
   "cell_type": "code",
   "execution_count": 25,
   "metadata": {},
   "outputs": [
    {
     "data": {
      "application/vnd.jupyter.widget-view+json": {
       "model_id": "9e6d56d85cef46d88493bb5086895340",
       "version_major": 2,
       "version_minor": 0
      },
      "text/plain": [
       "HBox(children=(IntProgress(value=0, max=4), HTML(value='')))"
      ]
     },
     "metadata": {},
     "output_type": "display_data"
    }
   ],
   "source": [
    "output_dir=\"./images/\"\n",
    "if not os.path.exists(output_dir):\n",
    "    os.makedirs(output_dir)\n",
    "\n",
    "num_imgs = 4 #number of images per celeb\n",
    "done = {}\n",
    "\n",
    "count = 1\n",
    "\n",
    "with open(\"IMDb-Face.csv\", \"r\", encoding=\"utf8\") as f:\n",
    "    w_f = open(os.path.join(output_dir,\"labels.csv\"), mode='w+', newline=\"\\n\", encoding=\"utf-8\")\n",
    "    writer = csv.writer(w_f)\n",
    "        \n",
    "    reader = csv.reader(f, delimiter=\",\")\n",
    "    for i, line in tqdm(enumerate(reader), total=num_imgs):\n",
    "        if i==0:\n",
    "            continue\n",
    "        celeb_name = line[0]\n",
    "        \n",
    "        if celeb_name not in celebs:\n",
    "            continue\n",
    "            \n",
    "        if celeb_name not in done:\n",
    "            done[celeb_name] = 0\n",
    "            \n",
    "        if done[celeb_name]==num_imgs:\n",
    "            continue\n",
    "\n",
    "        img_filename = os.path.join(output_dir, \"%d.jpg\"%count)\n",
    "#         faces_img_dir = os.path.join(output_dir, \"Faces\", celeb_name)\n",
    "#         full_img_dir = os.path.join(output_dir,\"Full\", celeb_name)\n",
    "#         if not os.path.exists(faces_img_dir):\n",
    "#             os.makedirs(faces_img_dir)\n",
    "#         if not os.path.exists(full_img_dir):\n",
    "#             os.makedirs(full_img_dir)\n",
    "\n",
    "        size = [int(x) for x in line[4].split()]\n",
    "        bounds = [int(x) for x in line[3].split()]\n",
    "        url = line[5]\n",
    "        image = url_to_image(url)\n",
    "        if image is not None:\n",
    "            image = cv2.resize(image, (size[1], size[0]))\n",
    "            image = image[:,:,::-1]\n",
    "            try:\n",
    "#                 plt.imsave(os.path.join(full_img_dir, line[2]), image)\n",
    "                image = image[bounds[1]:bounds[3],bounds[0]:bounds[2],:]\n",
    "                plt.imsave(img_filename, image)\n",
    "                done[celeb_name] += 1\n",
    "                \n",
    "                writer.writerow([img_filename, celeb_name])\n",
    "                count += 1\n",
    "            except:\n",
    "                pass\n",
    "    w_f.close()"
   ]
  },
  {
   "cell_type": "code",
   "execution_count": 44,
   "metadata": {},
   "outputs": [],
   "source": [
    "import torch, torchvision\n",
    "import torch.utils.data\n",
    "import pandas as pd\n",
    "import io"
   ]
  },
  {
   "cell_type": "code",
   "execution_count": 45,
   "metadata": {},
   "outputs": [],
   "source": [
    "train_dir = os.path.join(\"images\")"
   ]
  },
  {
   "cell_type": "code",
   "execution_count": 60,
   "metadata": {},
   "outputs": [],
   "source": [
    "from torch.utils.data.dataset import Dataset\n",
    "\n",
    "class FacesDataset(Dataset):\n",
    "    def __init__(self, root_dir, csv_file):\n",
    "        self.labels_frame = pd.read_csv(os.path.join(root_dir, csv_file))\n",
    "        self.root_dir = root_dir\n",
    "        self.transform = None\n",
    "        \n",
    "    def __getitem__(self, idx):\n",
    "        img_name = os.path.join(self.labels_frame.iloc[idx, 0])\n",
    "        image = plt.imread(img_name)\n",
    "        sample = (idx, (image, self.labels_frame.iloc[idx, 1]))\n",
    "\n",
    "        if self.transform:\n",
    "            sample = self.transform(sample)\n",
    "\n",
    "        return sample\n",
    "\n",
    "    def __len__(self):\n",
    "        return len(self.labels_frame)"
   ]
  },
  {
   "cell_type": "code",
   "execution_count": 61,
   "metadata": {},
   "outputs": [],
   "source": [
    "face_dataset = FacesDataset(csv_file='labels.csv', root_dir='images')"
   ]
  },
  {
   "cell_type": "code",
   "execution_count": 62,
   "metadata": {},
   "outputs": [],
   "source": [
    "i = 5\n",
    "sample = face_dataset[i]"
   ]
  },
  {
   "cell_type": "code",
   "execution_count": 64,
   "metadata": {},
   "outputs": [
    {
     "name": "stdout",
     "output_type": "stream",
     "text": [
      "0\n"
     ]
    }
   ],
   "source": [
    "for i, (input, target) in enumerate(face_dataset):\n",
    "    print(i)\n",
    "    break"
   ]
  },
  {
   "cell_type": "code",
   "execution_count": null,
   "metadata": {},
   "outputs": [],
   "source": []
  },
  {
   "cell_type": "code",
   "execution_count": null,
   "metadata": {},
   "outputs": [],
   "source": []
  },
  {
   "cell_type": "markdown",
   "metadata": {},
   "source": [
    "# Look here!"
   ]
  },
  {
   "cell_type": "code",
   "execution_count": 1,
   "metadata": {},
   "outputs": [],
   "source": [
    "%load_ext autoreload\n",
    "%autoreload 2"
   ]
  },
  {
   "cell_type": "code",
   "execution_count": null,
   "metadata": {
    "scrolled": true
   },
   "outputs": [
    {
     "data": {
      "application/vnd.jupyter.widget-view+json": {
       "model_id": "91f45953437040f89ea12a87dd1c996e",
       "version_major": 2,
       "version_minor": 0
      },
      "text/plain": [
       "HBox(children=(IntProgress(value=0, max=1662889), HTML(value='')))"
      ]
     },
     "metadata": {},
     "output_type": "display_data"
    },
    {
     "name": "stdout",
     "output_type": "stream",
     "text": [
      "\n"
     ]
    },
    {
     "data": {
      "application/vnd.jupyter.widget-view+json": {
       "model_id": "fee06862872d41d4b88b06a986fcb722",
       "version_major": 2,
       "version_minor": 0
      },
      "text/plain": [
       "HBox(children=(IntProgress(value=0, max=1662889), HTML(value='')))"
      ]
     },
     "metadata": {},
     "output_type": "display_data"
    },
    {
     "name": "stdout",
     "output_type": "stream",
     "text": [
      "\n",
      " Cedric_the_Entertainer : ||||||||||||||||||||||||||||||||||||||||||||||||||||||||||||||||||||||||||||||||||||||||||||||||||||"
     ]
    }
   ],
   "source": [
    "from dataset import get_celeb_list, fetch_images, FacesDataset\n",
    "import os\n",
    "\n",
    "num_train = 80\n",
    "num_val = 10\n",
    "num_test = 10\n",
    "num_celebs = 500\n",
    "\n",
    "celebs = get_celeb_list()\n",
    "fetch_images(prefix, celebs, num_train, num_val, num_test, num_celebs)"
   ]
  },
  {
   "cell_type": "code",
   "execution_count": 17,
   "metadata": {},
   "outputs": [],
   "source": [
    "train_data = FacesDataset(os.path.join(\"images\",\"train\"), os.path.join(\"images\",\"train_labels.csv\"))\n",
    "val_data = FacesDataset(os.path.join(\"images\",\"val\"), os.path.join(\"images\",\"val_labels.csv\"))\n",
    "test_data = FacesDataset(os.path.join(\"images\",\"test\"), os.path.join(\"images\",\"test_labels.csv\"))"
   ]
  },
  {
   "cell_type": "code",
   "execution_count": 19,
   "metadata": {},
   "outputs": [
    {
     "name": "stdout",
     "output_type": "stream",
     "text": [
      "(0, (array([[[112, 107, 103],\n",
      "        [112, 107, 103],\n",
      "        [110, 105, 101],\n",
      "        ...,\n",
      "        [ 95,  86,  81],\n",
      "        [ 93,  84,  79],\n",
      "        [ 87,  80,  74]],\n",
      "\n",
      "       [[111, 106, 102],\n",
      "        [108, 103,  99],\n",
      "        [107, 102,  98],\n",
      "        ...,\n",
      "        [ 95,  86,  81],\n",
      "        [ 91,  82,  77],\n",
      "        [ 84,  77,  71]],\n",
      "\n",
      "       [[111, 106, 102],\n",
      "        [105, 100,  96],\n",
      "        [102,  97,  93],\n",
      "        ...,\n",
      "        [ 95,  85,  83],\n",
      "        [ 88,  81,  75],\n",
      "        [ 79,  72,  66]],\n",
      "\n",
      "       ...,\n",
      "\n",
      "       [[ 62,  57,  53],\n",
      "        [ 62,  57,  53],\n",
      "        [ 60,  55,  51],\n",
      "        ...,\n",
      "        [137, 132, 128],\n",
      "        [142, 137, 133],\n",
      "        [151, 146, 142]],\n",
      "\n",
      "       [[ 59,  54,  50],\n",
      "        [ 62,  57,  53],\n",
      "        [ 62,  57,  53],\n",
      "        ...,\n",
      "        [141, 136, 132],\n",
      "        [147, 142, 138],\n",
      "        [157, 152, 148]],\n",
      "\n",
      "       [[ 58,  53,  49],\n",
      "        [ 63,  58,  54],\n",
      "        [ 66,  61,  57],\n",
      "        ...,\n",
      "        [139, 134, 130],\n",
      "        [145, 140, 136],\n",
      "        [155, 150, 146]]], dtype=uint8), array([1., 0., 0.])))\n"
     ]
    }
   ],
   "source": [
    "for i in train_data:\n",
    "    print(i)\n",
    "    break"
   ]
  },
  {
   "cell_type": "code",
   "execution_count": null,
   "metadata": {},
   "outputs": [],
   "source": []
  }
 ],
 "metadata": {
  "kernelspec": {
   "display_name": "Python 3",
   "language": "python",
   "name": "python3"
  },
  "language_info": {
   "codemirror_mode": {
    "name": "ipython",
    "version": 3
   },
   "file_extension": ".py",
   "mimetype": "text/x-python",
   "name": "python",
   "nbconvert_exporter": "python",
   "pygments_lexer": "ipython3",
   "version": "3.6.1"
  }
 },
 "nbformat": 4,
 "nbformat_minor": 2
}
