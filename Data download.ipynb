{
 "cells": [
  {
   "cell_type": "code",
   "execution_count": 84,
   "metadata": {},
   "outputs": [],
   "source": [
    "import urllib\n",
    "import cv2\n",
    "from matplotlib import pyplot as plt\n",
    "%matplotlib inline\n",
    " \n",
    "# METHOD #1: OpenCV, NumPy, and urllib\n",
    "def url_to_image(url):\n",
    "    # download the image, convert it to a NumPy array, and then read\n",
    "    # it into OpenCV format\n",
    "    try:\n",
    "        resp = urllib.request.urlopen(url)\n",
    "        image = np.asarray(bytearray(resp.read()), dtype=\"uint8\")\n",
    "        image = cv2.imdecode(image, cv2.IMREAD_COLOR)\n",
    "        return image\n",
    "    except:\n",
    "        return None"
   ]
  },
  {
   "cell_type": "code",
   "execution_count": null,
   "metadata": {},
   "outputs": [],
   "source": []
  },
  {
   "cell_type": "code",
   "execution_count": 66,
   "metadata": {},
   "outputs": [
    {
     "data": {
      "application/vnd.jupyter.widget-view+json": {
       "model_id": "",
       "version_major": 2,
       "version_minor": 0
      },
      "text/plain": [
       "HBox(children=(IntProgress(value=1, bar_style='info', max=1), HTML(value='')))"
      ]
     },
     "metadata": {},
     "output_type": "display_data"
    }
   ],
   "source": [
    "data_info = {}\n",
    "with open(\"IMDb-Face.csv\", \"r\", encoding=\"utf8\") as f:\n",
    "    reader = csv.reader(f, delimiter=\",\")\n",
    "    for i, line in tqdm(enumerate(reader)):\n",
    "        if line[0] in data_info:\n",
    "            data_info[line[0]] += 1\n",
    "        else:\n",
    "            data_info[line[0]] = 1"
   ]
  },
  {
   "cell_type": "code",
   "execution_count": 75,
   "metadata": {},
   "outputs": [
    {
     "data": {
      "text/plain": [
       "59305"
      ]
     },
     "execution_count": 75,
     "metadata": {},
     "output_type": "execute_result"
    }
   ],
   "source": [
    "len(data_info)"
   ]
  },
  {
   "cell_type": "code",
   "execution_count": 76,
   "metadata": {},
   "outputs": [
    {
     "data": {
      "text/plain": [
       "10455"
      ]
     },
     "execution_count": 76,
     "metadata": {},
     "output_type": "execute_result"
    }
   ],
   "source": [
    "max(data_info.values())"
   ]
  },
  {
   "cell_type": "code",
   "execution_count": 79,
   "metadata": {},
   "outputs": [
    {
     "data": {
      "text/plain": [
       "(array([1., 1., 0., ..., 0., 0., 1.]),\n",
       " array([    1,     2,     3, ..., 10453, 10454, 10455]),\n",
       " <a list of 10454 Patch objects>)"
      ]
     },
     "execution_count": 79,
     "metadata": {},
     "output_type": "execute_result"
    },
    {
     "data": {
      "image/png": "[encoded data removed]",
      "text/plain": [
       "<Figure size 432x288 with 1 Axes>"
      ]
     },
     "metadata": {
      "needs_background": "light"
     },
     "output_type": "display_data"
    }
   ],
   "source": [
    "data = list(data_info.values())\n",
    "plt.hist(data, bins=np.arange(min(data), max(data)+1))"
   ]
  },
  {
   "cell_type": "code",
   "execution_count": 82,
   "metadata": {},
   "outputs": [],
   "source": [
    "freq = {}\n",
    "for key in data_info:\n",
    "    value = data_info[key]\n",
    "    if value in freq:\n",
    "        freq[value] += 1\n",
    "    else:\n",
    "        freq[value] = 1\n",
    "        "
   ]
  },
  {
   "cell_type": "code",
   "execution_count": 119,
   "metadata": {},
   "outputs": [
    {
     "data": {
      "text/plain": [
       "1061"
      ]
     },
     "execution_count": 119,
     "metadata": {},
     "output_type": "execute_result"
    }
   ],
   "source": [
    "celebs = [key for key in data_info if data_info[key]>150]\n",
    "len(celebs)"
   ]
  },
  {
   "cell_type": "code",
   "execution_count": 121,
   "metadata": {},
   "outputs": [],
   "source": [
    "celebs = celebs[:10]"
   ]
  },
  {
   "cell_type": "code",
   "execution_count": 123,
   "metadata": {},
   "outputs": [
    {
     "data": {
      "application/vnd.jupyter.widget-view+json": {
       "model_id": "0eaaf895fc3e413486d85524aed71086",
       "version_major": 2,
       "version_minor": 0
      },
      "text/plain": [
       "HBox(children=(IntProgress(value=0, max=10), HTML(value='')))"
      ]
     },
     "metadata": {},
     "output_type": "display_data"
    }
   ],
   "source": [
    "import csv\n",
    "import cv2\n",
    "import os\n",
    "import numpy as np\n",
    "from tqdm import tqdm_notebook as tqdm\n",
    "\n",
    "output_dir=\"./images/\"\n",
    "if not os.path.exists(output_dir):\n",
    "    os.makedirs(output_dir)\n",
    "\n",
    "num_imgs = 10 #number of images per celeb\n",
    "done = {}\n",
    "\n",
    "\n",
    "with open(\"IMDb-Face.csv\", \"r\", encoding=\"utf8\") as f:\n",
    "    reader = csv.reader(f, delimiter=\",\")\n",
    "    for i, line in tqdm(enumerate(reader), total=num_imgs):\n",
    "        if i==0:\n",
    "            continue\n",
    "        celeb_name = line[0]\n",
    "        \n",
    "        if celeb_name not in celebs:\n",
    "            continue\n",
    "            \n",
    "        if celeb_name not in done:\n",
    "            done[celeb_name] = 0\n",
    "            \n",
    "        if done[celeb_name]==num_imgs:\n",
    "            continue\n",
    "\n",
    "        faces_img_dir = os.path.join(output_dir, \"Faces\", celeb_name)\n",
    "        full_img_dir = os.path.join(output_dir,\"Full\", celeb_name)\n",
    "        if not os.path.exists(faces_img_dir):\n",
    "            os.makedirs(faces_img_dir)\n",
    "        if not os.path.exists(full_img_dir):\n",
    "            os.makedirs(full_img_dir)\n",
    "\n",
    "        size = [int(x) for x in line[4].split()]\n",
    "        bounds = [int(x) for x in line[3].split()]\n",
    "        url = line[5]\n",
    "        image = url_to_image(url)\n",
    "        if image is not None:\n",
    "            image = cv2.resize(image, (size[1], size[0]))\n",
    "            image = image[:,:,::-1]\n",
    "            try:\n",
    "                plt.imsave(os.path.join(full_img_dir, line[2]), image)\n",
    "                image = image[bounds[1]:bounds[3],bounds[0]:bounds[2],:]\n",
    "                plt.imsave(os.path.join(faces_img_dir, line[2]), image)\n",
    "                done[celeb_name] += 1\n",
    "            except:\n",
    "                pass"
   ]
  },
  {
   "cell_type": "code",
   "execution_count": null,
   "metadata": {},
   "outputs": [],
   "source": []
  }
 ],
 "metadata": {
  "kernelspec": {
   "display_name": "Python 3",
   "language": "python",
   "name": "python3"
  },
  "language_info": {
   "codemirror_mode": {
    "name": "ipython",
    "version": 3
   },
   "file_extension": ".py",
   "mimetype": "text/x-python",
   "name": "python",
   "nbconvert_exporter": "python",
   "pygments_lexer": "ipython3",
   "version": "3.6.1"
  }
 },
 "nbformat": 4,
 "nbformat_minor": 2
}
